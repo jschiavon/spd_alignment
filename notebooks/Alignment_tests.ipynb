{
 "cells": [
  {
   "cell_type": "markdown",
   "id": "promising-angle",
   "metadata": {},
   "source": [
    "# Procrustes-like alignment for SPD matrices\n",
    "\n",
    "In this notebook I will perform some simulations to check the results from the report (I will report here the results that I will check without a proof).\n",
    "\n",
    "The general problem is to find the *optimal* way to align a set of SPD matrices to a common reference. This problem can be split in two parts:\n",
    "\n",
    "  1. given a reference, what is the optimal rotation for each matrix in the set?\n",
    "  2. which is the optimal reference\n",
    " \n",
    "I start by importing the used packages and defining the hyperparameters"
   ]
  },
  {
   "cell_type": "code",
   "execution_count": null,
   "id": "ecological-listening",
   "metadata": {},
   "outputs": [],
   "source": [
    "%matplotlib inline\n",
    "\n",
    "import numpy as np\n",
    "from numpy.random import default_rng\n",
    "\n",
    "import matplotlib.pyplot as plt\n",
    "import seaborn as sns\n",
    "sns.set_theme('talk', 'darkgrid')\n",
    "\n",
    "plt.rcParams[\"figure.figsize\"] = (15,4)\n",
    "\n",
    "seed = 0\n",
    "rng = default_rng(seed)\n",
    "\n",
    "# Hyperparameters: number of matrices and their dimensions\n",
    "n, p = 10, 3\n",
    "\n",
    "# Hyperparameters: simulations numbers\n",
    "n_tests = 5\n",
    "n_rep = 30"
   ]
  },
  {
   "cell_type": "markdown",
   "id": "written-master",
   "metadata": {},
   "source": [
    "Then I generate a set of random SPD matrices $\\Sigma_i$ that we can consider a sample dataset."
   ]
  },
  {
   "cell_type": "code",
   "execution_count": null,
   "id": "intense-street",
   "metadata": {},
   "outputs": [],
   "source": [
    "Sigmas = rng.normal(size=(n, p, p))\n",
    "Sigmas = np.einsum('...ij,...kj', Sigmas, Sigmas)"
   ]
  },
  {
   "cell_type": "markdown",
   "id": "retained-australia",
   "metadata": {},
   "source": [
    "Then I define the various function that I will need (along with some helper utilities). Mainly, I will need the distance induced by the Frobenius norm\n",
    "$$\n",
    "    d_F(A, B)^2 = \\left\\Vert A-B\\right\\Vert^2_F = tr\\left((A-B)^\\top(A-B)\\right)\n",
    "$$\n",
    "the riemannian distance (with $Log$ the matrix logarithm, which for the SPD matrices is well defined)\n",
    "$$\n",
    "    d_R(A, B)^2 = \\left\\Vert Log\\left(A^{-1/2}BA^{-1/2}\\right)\\right\\Vert^2_F\n",
    "$$\n",
    "\n",
    "Moreover, the rotation in this context is defined as\n",
    "$$\n",
    "    T_\\Omega(\\Sigma) = \\Omega\\Sigma\\Omega^\\top\n",
    "$$"
   ]
  },
  {
   "cell_type": "code",
   "execution_count": null,
   "id": "desirable-executive",
   "metadata": {},
   "outputs": [],
   "source": [
    "# Functions\n",
    "isqrt = lambda x: 1. / np.sqrt(x)\n",
    "funs = {'sqrt': np.sqrt,\n",
    "        'isqrt': isqrt,\n",
    "        'log': np.log,\n",
    "        'exp': np.exp}\n",
    "\n",
    "def norm_frob_squared(X):\n",
    "    return np.einsum('...ji,...ji', X, X)\n",
    "\n",
    "def dist_frob_squared(X, Y):\n",
    "    return norm_frob_squared(X - Y)\n",
    "\n",
    "def transform_mat(X, func='sqrt'):\n",
    "    u, v = np.linalg.eigh(X)\n",
    "    return np.einsum('...ij,...j,...kj', v, funs[func](u), v)\n",
    "\n",
    "def dist_riem_squared(X, Y):\n",
    "    x = transform_mat(X, 'isqrt')\n",
    "    mid = np.einsum('...ij,...jk,...kl', x, Y, x)\n",
    "    return norm_frob_squared(transform_mat(mid, 'log'))\n",
    "\n",
    "def costfunc(X, Y):\n",
    "    return np.sum(dist_riem_squared(X, Y))\n",
    "\n",
    "def costfuncproc(X, Y):\n",
    "    return np.sum(dist_frob_squared(X, Y))\n",
    "\n",
    "def rotate(X, Omega):\n",
    "    return np.einsum('...ij,...jk,...lk', Omega, X, Omega)\n",
    "\n"
   ]
  },
  {
   "cell_type": "markdown",
   "id": "alpine-serum",
   "metadata": {},
   "source": [
    "## Results from the report\n",
    "As is proven in the report, the set of optimal rotation matrices, given the eigenvalue decompositions $\\Gamma_i\\Lambda_i\\Gamma_i^\\top = \\Sigma_i$ and $\\Gamma_M\\Lambda_M\\Gamma_M=M$ is\n",
    "$$\n",
    "    \\Omega_i = \\Gamma_M\\Gamma_i^\\top\n",
    "$$\n",
    "\n",
    "The optimal reference matrix is obtained by combining the optimal eigenvalues and the optimal eigenvectors, which are separately\n",
    "$$\n",
    "    \\lambda_{Mh} = \\left[\\prod_i^n\\lambda_{ih}\\right]^{1/n}\n",
    "$$\n",
    "and\n",
    "$$\n",
    "    \\Gamma_M = UV^\\top\n",
    "$$\n",
    "with $UDV^\\top = \\sum_i\\Gamma_i$ the singular value decomposition of the sum of $\\Gamma_i$"
   ]
  },
  {
   "cell_type": "code",
   "execution_count": null,
   "id": "irish-virginia",
   "metadata": {},
   "outputs": [],
   "source": [
    "def optimal_rotation(X, M):\n",
    "    _, g_m = np.linalg.eigh(M)\n",
    "    _, g_x = np.linalg.eigh(X)\n",
    "    return np.einsum('...ij,...kj', g_m, g_x)\n",
    "\n",
    "def optimal_reference_eigval(X):\n",
    "    u = np.linalg.eigvalsh(X)\n",
    "    return np.power(np.prod(u, axis=0), 1 / X.shape[0])\n",
    "\n",
    "def optimal_reference_eigvec(X):\n",
    "    _, vs = np.linalg.eigh(Sigmas)\n",
    "    U, _, V = np.linalg.svd(np.sum(vs, axis=0))\n",
    "    return np.einsum('...ij,...jk', U, V)"
   ]
  },
  {
   "cell_type": "code",
   "execution_count": null,
   "id": "bored-samba",
   "metadata": {
    "scrolled": true
   },
   "outputs": [],
   "source": [
    "# First simulation: optimal rotation\n",
    "for i in range(n_tests):\n",
    "    M = rng.normal(size=(p, p))\n",
    "    M = np.einsum('...ij,...kj', M, M)\n",
    "    \n",
    "    om_opt = optimal_rotation(Sigmas, M)\n",
    "    cost_opt = costfunc(M, rotate(Sigmas, om_opt))\n",
    "    costs = []\n",
    "    \n",
    "    for j in range(n_rep):\n",
    "        omega = np.linalg.qr(rng.normal(size=(p, p)))[0]\n",
    "        costs.append(costfunc(M, rotate(Sigmas, omega)))\n",
    "    \n",
    "    costs = np.array(costs)\n",
    "    min_costs = np.where((costs < cost_opt) & (~np.isclose(costs, cost_opt)), costs, 0)\n",
    "    \n",
    "    plt.bar(range(n_rep), costs, alpha=0.6)\n",
    "    plt.bar(range(len(min_costs)), min_costs, color='r')\n",
    "    plt.hlines(y=cost_opt, xmin=0, xmax=n_rep, colors='k', linestyle='dashed')\n",
    "    plt.show()"
   ]
  },
  {
   "cell_type": "code",
   "execution_count": null,
   "id": "signed-atlas",
   "metadata": {},
   "outputs": [],
   "source": [
    "# Second simulation: Eigenvalues of the optimal reference\n",
    "lam_opt = np.diag(optimal_reference_eigval(Sigmas))\n",
    "rot_opt = optimal_rotation(Sigmas, lam_opt)\n",
    "cost_opt = costfunc(lam_opt, rotate(Sigmas, rot_opt))\n",
    "\n",
    "costs = []\n",
    "\n",
    "for j in range(n_rep):\n",
    "    M = rng.normal(size=(p, p))\n",
    "    M = np.einsum('...ij,...kj', M, M)\n",
    "    rot = optimal_rotation(Sigmas, M)\n",
    "    costs.append(costfunc(M, rotate(Sigmas, rot)))\n",
    "costs = np.array(costs)\n",
    "min_costs = np.where((costs < cost_opt) & (~np.isclose(costs, cost_opt)), costs, 0)\n",
    "\n",
    "plt.bar(range(n_rep), costs, alpha=0.6)\n",
    "plt.bar(range(len(min_costs)), min_costs, color='r')\n",
    "plt.hlines(y=cost_opt, xmin=0, xmax=n_rep, colors='k', linestyle='dashed')\n",
    "plt.show()"
   ]
  },
  {
   "cell_type": "code",
   "execution_count": null,
   "id": "living-implement",
   "metadata": {},
   "outputs": [],
   "source": [
    "# Third simulation: Independence from the eigenvectors\n",
    "lam_opt = optimal_reference_eigval(Sigmas)\n",
    "rot_opt = optimal_rotation(Sigmas, np.diag(lam_opt))\n",
    "cost_opt = costfunc(np.diag(lam_opt), rotate(Sigmas, rot_opt))\n",
    "\n",
    "costs = []\n",
    "\n",
    "for j in range(n_rep):\n",
    "    M = np.linalg.qr(rng.normal(size=(p, p)))[0]\n",
    "    M = np.einsum('...ij,...j,...kj', M, lam_opt, M)\n",
    "    rot = optimal_rotation(Sigmas, M)\n",
    "    costs.append(costfunc(M, rotate(Sigmas, rot)))\n",
    "costs = np.array(costs)\n",
    "min_costs = np.where((costs < cost_opt) & (~np.isclose(costs, cost_opt)), costs, 0)\n",
    "\n",
    "plt.bar(range(n_rep), costs, alpha=0.6)\n",
    "plt.bar(range(len(min_costs)), min_costs, color='r')\n",
    "plt.hlines(y=cost_opt, xmin=0, xmax=n_rep, colors='k', linestyle='dashed')\n",
    "plt.show()"
   ]
  },
  {
   "cell_type": "code",
   "execution_count": null,
   "id": "actual-importance",
   "metadata": {},
   "outputs": [],
   "source": [
    "# Fourth simulation: Eigenvectors of optimal reference\n",
    "_, vs = np.linalg.eigh(Sigmas)\n",
    "U, _, V = np.linalg.svd(np.sum(vs, axis=0))\n",
    "\n",
    "opt_gam = np.einsum('...ij,...jk', U, V)\n",
    "cost_opt = costfuncproc(np.einsum('...ij,...kj', opt_gam, vs), np.identity(p))\n",
    "\n",
    "costs = []\n",
    "\n",
    "for j in range(n_rep):\n",
    "    M = np.linalg.qr(rng.normal(size=(p, p)))[0]\n",
    "    costs.append(costfuncproc(np.einsum('...ij,...kj', M, vs), np.identity(p)))\n",
    "costs = np.array(costs)\n",
    "min_costs = np.where((costs < cost_opt) & (~np.isclose(costs, cost_opt)), costs, 0)\n",
    "\n",
    "plt.bar(range(n_rep), costs, alpha=0.6)\n",
    "plt.bar(range(len(min_costs)), min_costs, color='r')\n",
    "plt.hlines(y=cost_opt, xmin=0, xmax=n_rep, colors='k', linestyle='dashed')\n",
    "plt.show()"
   ]
  }
 ],
 "metadata": {
  "kernelspec": {
   "display_name": "Python 3.9.2 64-bit ('venvintel')",
   "language": "python",
   "name": "python39264bitvenvintel24ba9937312e43109110864dbe4301dc"
  },
  "language_info": {
   "codemirror_mode": {
    "name": "ipython",
    "version": 3
   },
   "file_extension": ".py",
   "mimetype": "text/x-python",
   "name": "python",
   "nbconvert_exporter": "python",
   "pygments_lexer": "ipython3",
   "version": "3.9.2"
  }
 },
 "nbformat": 4,
 "nbformat_minor": 5
}
